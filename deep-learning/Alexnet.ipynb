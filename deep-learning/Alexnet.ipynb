import tensorflow as tf
from tensorflow.keras.layers import Conv2D, MaxPooling2D, Flatten, Dense, Dropout
 
# Define the model
def alexnet_model(input_shape, num_classes):
    model = tf.keras.Sequential()
    # Layer 1
    model.add(Conv2D(filters=96, kernel_size=(3,3), strides=(1,1), activation='relu', input_shape=input_shape))
    model.add(MaxPooling2D(pool_size=(2,2), strides=(2,2)))
    # Layer 2
    model.add(Conv2D(filters=256, kernel_size=(3,3), strides=(1,1), activation='relu', padding="same"))
    model.add(MaxPooling2D(pool_size=(2,2), strides=(2,2)))
    # Layer 3
    model.add(Conv2D(filters=384, kernel_size=(3,3), strides=(1,1), activation='relu', padding="same"))
    # Layer 4
    model.add(Conv2D(filters=384, kernel_size=(3,3), strides=(1,1), activation='relu', padding="same"))
    # Layer 5
    model.add(Conv2D(filters=256, kernel_size=(3,3), strides=(1,1), activation='relu', padding="same"))
    model.add(MaxPooling2D(pool_size=(2,2), strides=(2,2)))
    # Layer 6
    model.add(Flatten())
    model.add(Dense(4096, activation='relu'))
    model.add(Dropout(0.5))
    # Layer 7
    model.add(Dense(4096, activation='relu'))
    model.add(Dropout(0.5))
    # Layer 8
    model.add(Dense(num_classes, activation='softmax'))

    return model

# Instantiate the model
input_shape = (32, 32, 3)
num_classes = 10
model = alexnet_model(input_shape, num_classes)

# Compile the model
model.compile(optimizer=tf.keras.optimizers.SGD(learning_rate=0.01),
              loss=tf.keras.losses.categorical_crossentropy,
              metrics=['accuracy'])

# Load and preprocess the CIFAR-10 dataset
(x_train, y_train), (x_test, y_test) = tf.keras.datasets.cifar10.load_data()
x_train = x_train.astype('float32') / 255.0
x_test = x_test.astype('float32') / 255.0
y_train = tf.keras.utils.to_categorical(y_train, num_classes)
y_test = tf.keras.utils.to_categorical(y_test, num_classes)

# Train the model
history = model.fit(x_train, y_train, batch_size=128, epochs=10, validation_data=(x_test, y_test))

# Evaluate the model on the test set
test_loss, test_acc = model.evaluate(x_test, y_test)
print('Test accuracy:', test_acc)
