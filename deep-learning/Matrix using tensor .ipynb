import torch
torch.device('cpu')


a=torch.tensor([[1,2,1],[2,1,3],[1,5,1]],dtype=torch.float32)
b=torch.tensor([[1,2,1],[2,1,3],[1,5,1]],dtype=torch.float32)
c=torch.zeros((3,3),dtype=torch.float32)

ind=2
print(a.size)
for i in range(ind) :
    val1=0.0
    for j in range(ind):
        val1=torch.dot(a[i,:],b[:,j])
        c[i][j]=val1

print("Multiplied Matrix:\n",c)

#Inbuilt Method
mul = a.matmul(b)
mul

a=torch.tensor([[3,2],[1,1]],dtype=torch.float64)
a

m,n=a.shape
m,n

import numpy as np
Inv = np.identity(n=m)
Inv= torch.tensor(Inv,dtype=torch.float64)
Inv

mat = np.concatenate((a,Inv),axis=1)
mat =torch.tensor(mat,dtype=torch.float64)
mat

for i in range (0,m):
    pivot = mat[i][i]
    row = mat[i]
    mat[i] = row / pivot
    for j in [k for k in range(0,m) if k!=i]:
        mat[j] = mat[j]-mat[i]*mat[j][i]
    inverse = mat[:,m:]

inverse

a=torch.tensor([[3,2],[1,1]],dtype=torch.float64)
a

inv = a.inverse()
inv

b=torch.tensor([[1,3,2],[1,1,1],[1,2,3]],dtype=torch.float64)
b

b_determinant = torch.det(b)
b_adjoint = torch.adjoint(b)
inv = b_adjoint/b_determinant
inv


b.inverse()

import torch

def determinant(matrix):
    a, b, c, d = matrix[0, 0], matrix[0, 1], matrix[1, 0], matrix[1, 1]
    return ((a * d) - (b * c))

mat = torch.tensor([[3,2],[2,1]],dtype=torch.float64)


det = determinant(mat)
adj = torch.adjoint(mat)

print("Determinant: ", det)

inv = adj/det
inv

